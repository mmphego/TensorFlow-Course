{
  "nbformat": 4,
  "nbformat_minor": 0,
  "metadata": {
    "colab": {
      "name": "Fashion_mnist.ipynb",
      "provenance": [],
      "collapsed_sections": []
    },
    "kernelspec": {
      "name": "python3",
      "display_name": "Python 3"
    }
  },
  "cells": [
    {
      "cell_type": "markdown",
      "metadata": {
        "id": "SlV99VlSFdEM"
      },
      "source": [
        "# TensorFlow Tutorial Using Fashion MNIST\n",
        "![clothes dataset images](https://github.com/mmphego/TensorFlow-Course/raw/master/img/clothes.png)\n",
        "*Figure 1 [Fashion-MNIST](https://github.com/zalandoresearch/fashion-mnist) samples (by Zalando, MIT License).*\n",
        "\n",
        "## Introduction\n",
        "Machine learning (ML)/Neural Network (NN) tools have recently made a huge splash with applications in data analysis, image classification, and data generation. Although ML methods have existed for decades, recent advancements in hardware have generated systems powerful enough to run these algorithms.\n",
        "\n",
        "The typical \"hello world\" example for ML is a classifier trained over the MNIST dataset; a dataset of the handwritten digits 0-9. This dataset is getting a little stale and is no longer impressive with employers as a proof of capability due to both its seeming simplicity and to the plethora of existing tutorials on the topic. Here we will use a newer dataset to perform our ML \"hello world\", the Fashion MNIST dataset!\n",
        "\n",
        "The Zeroth Step of ML (that should be completed before ever putting a hand to mouse, or finger to key) is understanding the format and sizes of your data. This step is often referred to as feature engineering. Feature engineering, typically, includes selecting and preprocessing the particular aspects of training data to give to your algorithm. You and I will start a good habit of examining the data and its format to make decisions concerning the appropriate size and format for our NN.\n",
        "\n",
        "The Fashion MNIST dataset is comprised of 70,000 grayscale images of articles of clothing. The greyscale values for a pixel range from 0-255 (black to white). Each low-resolution image is 28x28 pixels and is of exactly one clothing item. Alongside each image is a label that places the article within a category; these categories are shown in Figure 2 with an example image belonging to the class.\n",
        "\n",
        "![detail view of clothing categories](https://github.com/mmphego/TensorFlow-Course/raw/master/img/clothesDetails.png)\n",
        "*Figure 2 class numbers are shown next to image labels*\n"
      ]
    },
    {
      "cell_type": "code",
      "metadata": {
        "id": "ubvVFU8u4BGx"
      },
      "source": [
        "import tensorflow as tf\n",
        "from tensorflow import keras\n",
        "\n",
        "import matplotlib.pyplot as plt\n",
        "import numpy as np"
      ],
      "execution_count": 1,
      "outputs": []
    },
    {
      "cell_type": "markdown",
      "metadata": {
        "id": "sivO7liBEyri"
      },
      "source": [
        "## Import MNIST\n",
        "\n",
        "Now we are ready to roll! First, we must admit that it takes a lot of data to train a NN, and 70,000 examples is an anemic dataset. So instead of doing a more traditional 70/20/10 or 80/10/10 percent split between training/validating/testing, we will do a simple 6:1 ratio of training:testing (note that this is not best practices, but when there is limited data it may be your only recourse).\n",
        "\n",
        "We first load in the dataset from the Keras package:\n",
        "\n"
      ]
    },
    {
      "cell_type": "code",
      "metadata": {
        "id": "hpZP4VA04fEf",
        "outputId": "0295045f-c3f1-45ad-90c9-f3bc4c417b6a",
        "colab": {
          "base_uri": "https://localhost:8080/",
          "height": 156
        }
      },
      "source": [
        "fashion_mnist = keras.datasets.fashion_mnist\n",
        "(train_images, train_labels), (test_images, test_labels) = fashion_mnist.load_data()"
      ],
      "execution_count": 2,
      "outputs": [
        {
          "output_type": "stream",
          "text": [
            "Downloading data from https://storage.googleapis.com/tensorflow/tf-keras-datasets/train-labels-idx1-ubyte.gz\n",
            "32768/29515 [=================================] - 0s 0us/step\n",
            "Downloading data from https://storage.googleapis.com/tensorflow/tf-keras-datasets/train-images-idx3-ubyte.gz\n",
            "26427392/26421880 [==============================] - 0s 0us/step\n",
            "Downloading data from https://storage.googleapis.com/tensorflow/tf-keras-datasets/t10k-labels-idx1-ubyte.gz\n",
            "8192/5148 [===============================================] - 0s 0us/step\n",
            "Downloading data from https://storage.googleapis.com/tensorflow/tf-keras-datasets/t10k-images-idx3-ubyte.gz\n",
            "4423680/4422102 [==============================] - 0s 0us/step\n"
          ],
          "name": "stdout"
        }
      ]
    },
    {
      "cell_type": "markdown",
      "metadata": {
        "id": "oWY5ai1_E422"
      },
      "source": [
        "The first line merely assigns the name fashion_mnist to a particular dataset located within Keras' dataset library. The second line defines four arrays containing the training and testing data, cleaved again into separate structures for images and labels, and then loads all of that data into our standup of Python. The training data arrays will be used to --you guessed it-- train the model, and the testing arrays will allow us to evaluate the performance of our model."
      ]
    },
    {
      "cell_type": "markdown",
      "metadata": {
        "id": "u4O-9_nkE6IB"
      },
      "source": [
        "## Look at data\n",
        "\n",
        "It's always nice to be able to show that we've actually done something; ever since kindergarten there has been no better way than with a picture! You'll note that we pip installed and imported MatPlotLib, a library for plots and graphs. Here we'll use it to visualize an example of the Fashion MNIST dataset."
      ]
    },
    {
      "cell_type": "code",
      "metadata": {
        "id": "d6Qq4Umh5Usy",
        "outputId": "7f18a03f-8611-48a4-8fa2-5f5abc731296",
        "colab": {
          "base_uri": "https://localhost:8080/",
          "height": 52
        }
      },
      "source": [
        "print(f\"Train images dimensions: {train_images.shape}\")\n",
        "print(f\"Test images dimensions: {test_images.shape}\")"
      ],
      "execution_count": 3,
      "outputs": [
        {
          "output_type": "stream",
          "text": [
            "Train images dimensions: (60000, 28, 28)\n",
            "Test images dimensions: (10000, 28, 28)\n"
          ],
          "name": "stdout"
        }
      ]
    },
    {
      "cell_type": "markdown",
      "metadata": {
        "id": "KP6yhxmrFJUr"
      },
      "source": [
        "The first command basically generates a figure object that will be manipulated by commands 2 through 4. Command 2 specifies what it is that we shall be plotting: the first element from the train_images array. NOTE: Recall that python is an inclusive counting language, meaning that it numbers/indexes things starting from zero, not one! And the final command, \"show()\", tells Python to generate this figure in an external (from CMD) window.\n",
        "\n",
        "Your window should contain a plot that looks similar to Figure 3. Also, be aware that after plt.show(), Python will not return you to a command line until the newly generated window (containing our super nice picture) is closed. Upon closing the window, you will be able to continue entering Python commands."
      ]
    },
    {
      "cell_type": "code",
      "metadata": {
        "id": "DbEXfoNMFFPq",
        "outputId": "0bc08d29-5b75-42d6-b227-02fcae45d4e5",
        "colab": {
          "base_uri": "https://localhost:8080/",
          "height": 265
        }
      },
      "source": [
        "plt.figure()\n",
        "plt.imshow(train_images[0])\n",
        "plt.colormaps()\n",
        "plt.show()"
      ],
      "execution_count": 4,
      "outputs": [
        {
          "output_type": "display_data",
          "data": {
            "image/png": "[encoded data removed]",
            "text/plain": [
              "<Figure size 432x288 with 1 Axes>"
            ]
          },
          "metadata": {
            "tags": [],
            "needs_background": "light"
          }
        }
      ]
    },
    {
      "cell_type": "markdown",
      "metadata": {
        "id": "OP6cSC1O-4Ky"
      },
      "source": [
        "## Preprocessing the dataset\n",
        "\n",
        "The greyscale assigned to each pixel within an image has a value range of 0-255. We will want to flatten (smoosh… scale…) this range to 0-1. To achieve this flattening, we will exploit the data structure that our images are stored in, arrays. You see, each image is stored as a 2-dimensional array where each numerical value in the array is the greyscale code of particular pixel. Conveniently, if we divide an entire array by a scalar we generate a new array whose elements are the original elements divided by the scalar."
      ]
    },
    {
      "cell_type": "code",
      "metadata": {
        "id": "SL43CmA95KgT"
      },
      "source": [
        "train_images = train_images /255.\n",
        "test_images = test_images / 255"
      ],
      "execution_count": 5,
      "outputs": []
    },
    {
      "cell_type": "markdown",
      "metadata": {
        "id": "58StumPg_Gan"
      },
      "source": [
        "## Model Generation\n",
        "\n",
        "Every NN is constructed from a series of connected layers that are full of connection nodes. Simple mathematical operations are undertaken at each node in each layer, yet through the volume of connections and operations, these ML models can perform impressive and complex tasks.\n",
        "\n",
        "Our model will be constructed from 3 layers. The first layer – often referred to as the Input Layer – will intake an image and format the data structure in a method acceptable for the subsequent layers. In our case, this first layer will be a Flatten layer that intakes a multi-dimensional array and produces an array of a single dimension, this places all the pixel data on an equal depth during input. Both of the next layers will be simple fully connected layers, referred to as Dense layers, with 128 and 10 nodes respectively. These fully connected layers are the simplest layer in the sense of understanding, yet allow for the greatest number of layer-to-layer connections and relationships.\n",
        "\n",
        "The final bit of hyper-technical knowledge you'll need to learn is that each layer can have its own particular mathematical operation. These activation functions determine the form and relationship between the information provided by the layer. The first dense layer will feature a Rectified Linear Unit (ReLU) Activation Function that outputs values between zero and 1; mathematically, the activation function behaves like f(x)=max(0,x). The final layer uses the softmax activation function. This function also produces values in the 0-1 range, BUT generates these values such that the sum of the outputs will be 1! This makes the softmax a layer that is excellent at outputting probabilities."
      ]
    },
    {
      "cell_type": "code",
      "metadata": {
        "id": "JePMyRW_5EOL"
      },
      "source": [
        "model = keras.Sequential([\n",
        "    keras.layers.Flatten(input_shape=(28,28)),\n",
        "    keras.layers.Dense(128, activation=tf.nn.relu),\n",
        "    keras.layers.Dense(10, activation=tf.nn.softmax)\n",
        "])"
      ],
      "execution_count": 6,
      "outputs": []
    },
    {
      "cell_type": "markdown",
      "metadata": {
        "id": "ZUohrmbh_LLv"
      },
      "source": [
        "## Training the Model\n",
        "\n",
        "Models must be both compiled and trained prior to use. When compiling we must define a few more parameters that control how models are updated during training (optimizer), how the model's accuracy is measured during training (loss function), and what is to be measured to determine the model's accuracy (metrics). These values were selected for this project, yet are generally dependent on the model's intent and expected input and output."
      ]
    },
    {
      "cell_type": "code",
      "metadata": {
        "id": "u_OhEwLf6ReB"
      },
      "source": [
        "model.compile(\n",
        "    optimizer='adam',\n",
        "    loss='sparse_categorical_crossentropy',\n",
        "    metrics=['accuracy']\n",
        ")"
      ],
      "execution_count": 7,
      "outputs": []
    },
    {
      "cell_type": "markdown",
      "metadata": {
        "id": "I30yyGwW_O2H"
      },
      "source": [
        "Now we can begin training our model! Now, with already having generated and compiled the model, the code required to train the model is a single line."
      ]
    },
    {
      "cell_type": "code",
      "metadata": {
        "id": "_57YoEpt65X4",
        "outputId": "7222be45-9452-4df5-8f33-143031057373",
        "colab": {
          "base_uri": "https://localhost:8080/",
          "height": 208
        }
      },
      "source": [
        "model.fit(train_images, train_labels, epochs=5)"
      ],
      "execution_count": 8,
      "outputs": [
        {
          "output_type": "stream",
          "text": [
            "Epoch 1/5\n",
            "1875/1875 [==============================] - 3s 2ms/step - loss: 0.5013 - accuracy: 0.8243\n",
            "Epoch 2/5\n",
            "1875/1875 [==============================] - 3s 2ms/step - loss: 0.3748 - accuracy: 0.8653\n",
            "Epoch 3/5\n",
            "1875/1875 [==============================] - 3s 2ms/step - loss: 0.3360 - accuracy: 0.8773\n",
            "Epoch 4/5\n",
            "1875/1875 [==============================] - 3s 2ms/step - loss: 0.3106 - accuracy: 0.8867\n",
            "Epoch 5/5\n",
            "1875/1875 [==============================] - 3s 2ms/step - loss: 0.2929 - accuracy: 0.8918\n"
          ],
          "name": "stdout"
        },
        {
          "output_type": "execute_result",
          "data": {
            "text/plain": [
              "<tensorflow.python.keras.callbacks.History at 0x7fae0eb49c50>"
            ]
          },
          "metadata": {
            "tags": []
          },
          "execution_count": 8
        }
      ]
    },
    {
      "cell_type": "markdown",
      "metadata": {
        "id": "Sie7ToXr_OGX"
      },
      "source": [
        "This single line completes the entire job of training our model, but let's take a brief look at the arguments provided to the `model.fit` command.\n",
        "\n",
        "- The first argument is input data, and recall that our input Flatten layer takes a (28,28) array, conforming to the dimensionality of our images.\n",
        "- Next we train the system by providing the correct classification for all the training examples.\n",
        "- The final argument is the number of epochs undertaken during training; each epoch is a training cycle over all the training data. Our setting the epoch value to 5 means that the model will be trained overall 60,000 training examples 5 times. After each epoch, we get both the value of the loss function and the model's accuracy (88.97% after epoch 5) at this epoch.\n",
        "\n"
      ]
    },
    {
      "cell_type": "markdown",
      "metadata": {
        "id": "3mndcx2SBZC4"
      },
      "source": [
        "## Evaluating Our Model\n",
        "\n",
        "Now we are working with a functional and trained NN model. Following our logic from the top, we have built a NN that intakes a (28,28) array, flattens the data into a (784) array, compiled and trained 2 dense layers, and the softmax activation function of the final output layer will provide a probability that the image belongs to each of the 10 label categories.\n",
        "\n",
        "Our model can be evaluated by using the `model.evaluate` command, that takes in the images and labels so that it can compare its predictions to the ground truth provided by the labels. `model.evaluate` provides two outputs, the value of the loss function over the testing examples, and the accuracy of the model over this testing population. The important output for us is the model's accuracy."
      ]
    },
    {
      "cell_type": "code",
      "metadata": {
        "id": "1zPZAVukALaX",
        "outputId": "af58b75f-3325-4b81-9a1f-a0e147dd266b",
        "colab": {
          "base_uri": "https://localhost:8080/",
          "height": 52
        }
      },
      "source": [
        "test_loss, test_acc = model.evaluate(test_images, test_labels)\n",
        "print(f\"Model Accuracy: {test_acc * 100}%\")"
      ],
      "execution_count": 9,
      "outputs": [
        {
          "output_type": "stream",
          "text": [
            "313/313 [==============================] - 0s 1ms/step - loss: 0.3661 - accuracy: 0.8696\n",
            "Model Accuracy: 86.9599997997284%\n"
          ],
          "name": "stdout"
        }
      ]
    },
    {
      "cell_type": "markdown",
      "metadata": {
        "id": "VMn-Kkx_BYSz"
      },
      "source": [
        "This is great! Our model performs at an accuracy of 87.21%. As good as that is, it is lower than the model accuracy promised above (89.01%). This lower performance is due to the model overfitting on the training data. Overfitting occurs when there are too many parameters within the model when compared to the number of training instances; this allows the model to over learn on those limited examples. Overfitting leads to better model performance over non-training data.\n",
        "\n",
        "That said, 87.21% is a decent number! Let's finally learn how you can feed our model the series of test examples from the `test_images` array, and have it provide its predictions."
      ]
    },
    {
      "cell_type": "markdown",
      "metadata": {
        "id": "ocKAVzN5AiDP"
      },
      "source": [
        ""
      ]
    },
    {
      "cell_type": "code",
      "metadata": {
        "id": "KBiq6YxA_wA0",
        "outputId": "99bffb95-33ec-4532-80e1-a31e6ec86e54",
        "colab": {
          "base_uri": "https://localhost:8080/",
          "height": 69
        }
      },
      "source": [
        "predictions = model.predict(test_images)\n",
        "predictions[1]"
      ],
      "execution_count": 10,
      "outputs": [
        {
          "output_type": "execute_result",
          "data": {
            "text/plain": [
              "array([2.5909148e-02, 6.8095360e-08, 8.7986720e-01, 1.5188994e-07,\n",
              "       3.4150165e-02, 1.3426678e-13, 6.0012016e-02, 7.6524100e-17,\n",
              "       6.1393403e-05, 7.7621926e-13], dtype=float32)"
            ]
          },
          "metadata": {
            "tags": []
          },
          "execution_count": 10
        }
      ]
    },
    {
      "cell_type": "markdown",
      "metadata": {
        "id": "uPc5-TFcDMtW"
      },
      "source": [
        "As we can see, most of the entries in our prediction array are very close to 0. They are written in scientific notation--the value after the e being the number decimal places to adjust the value (for example 5.1 e-04 is actually 0.00051). The entry that stands out is `predictions[0][9]` at .8658, or 86.58%, certainty that this image should be classified as a boot!\n",
        "\n",
        "If you prefer to not look through a list to determine the class label, we can simplify the output by:"
      ]
    },
    {
      "cell_type": "code",
      "metadata": {
        "id": "7qL62gpG6_3c",
        "outputId": "7dc5977c-cbdb-406a-b617-346c41423694",
        "colab": {
          "base_uri": "https://localhost:8080/",
          "height": 34
        }
      },
      "source": [
        "np.argmax(predictions[1])"
      ],
      "execution_count": 11,
      "outputs": [
        {
          "output_type": "execute_result",
          "data": {
            "text/plain": [
              "2"
            ]
          },
          "metadata": {
            "tags": []
          },
          "execution_count": 11
        }
      ]
    },
    {
      "cell_type": "markdown",
      "metadata": {
        "id": "DhclaNb3Dj4T"
      },
      "source": [
        "Finally, we can verify this prediction by looking at the label ourselves:"
      ]
    },
    {
      "cell_type": "code",
      "metadata": {
        "id": "oLjRFFrgDmUL",
        "outputId": "7e206ccb-2fff-4fa5-eb1d-96a52c3647d4",
        "colab": {
          "base_uri": "https://localhost:8080/",
          "height": 34
        }
      },
      "source": [
        "test_labels[1]"
      ],
      "execution_count": 12,
      "outputs": [
        {
          "output_type": "execute_result",
          "data": {
            "text/plain": [
              "2"
            ]
          },
          "metadata": {
            "tags": []
          },
          "execution_count": 12
        }
      ]
    },
    {
      "cell_type": "code",
      "metadata": {
        "id": "m-MCYc6OECPw",
        "outputId": "62b3f5df-609c-455c-f49b-ebfe3d34ccd6",
        "colab": {
          "base_uri": "https://localhost:8080/",
          "height": 265
        }
      },
      "source": [
        "plt.figure()\n",
        "plt.imshow(test_images[1])\n",
        "plt.colormaps()\n",
        "plt.show()"
      ],
      "execution_count": 13,
      "outputs": [
        {
          "output_type": "display_data",
          "data": {
            "image/png": "[encoded data removed]",
            "text/plain": [
              "<Figure size 432x288 with 1 Axes>"
            ]
          },
          "metadata": {
            "tags": [],
            "needs_background": "light"
          }
        }
      ]
    },
    {
      "cell_type": "markdown",
      "metadata": {
        "id": "LhwA2itYD91r"
      },
      "source": [
        "There you have it! You have built and trained your first neural network from scratch, and properly classified a shirt as a shirt!\n"
      ]
    }
  ]
}